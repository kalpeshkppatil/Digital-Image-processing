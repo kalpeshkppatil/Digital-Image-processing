{
 "cells": [
  {
   "cell_type": "code",
   "execution_count": 2,
   "id": "1e29b44c-40f5-433a-9c03-a09b7bcf1a89",
   "metadata": {},
   "outputs": [],
   "source": [
    "from PIL import Image, ImageFilter"
   ]
  },
  {
   "cell_type": "code",
   "execution_count": 3,
   "id": "4ba37ea6-18b6-4f33-8a61-26d74620e177",
   "metadata": {},
   "outputs": [],
   "source": [
    "image = Image.open('D:\\mystuff\\yoga.jpeg')"
   ]
  },
  {
   "cell_type": "code",
   "execution_count": 4,
   "id": "963a805c-1736-43a0-a9fc-328f3057d466",
   "metadata": {},
   "outputs": [
    {
     "name": "stdout",
     "output_type": "stream",
     "text": [
      "Image format: JPEG\n",
      "Image mode: RGB\n",
      "Image size: (1000, 596)\n"
     ]
    }
   ],
   "source": [
    "print(\"Image format:\", image.format)\n",
    "print(\"Image mode:\", image.mode)\n",
    "print(\"Image size:\", image.size)"
   ]
  },
  {
   "cell_type": "code",
   "execution_count": 5,
   "id": "8f32bedd-6953-4bd8-a418-fe22bae5bc91",
   "metadata": {},
   "outputs": [],
   "source": [
    "image.show()"
   ]
  },
  {
   "cell_type": "code",
   "execution_count": 6,
   "id": "cf13ed31-fff9-4f7d-b0e0-ee2be75c9987",
   "metadata": {},
   "outputs": [],
   "source": [
    "gray_image = image.convert('L')"
   ]
  },
  {
   "cell_type": "code",
   "execution_count": 7,
   "id": "0102f129-5d83-4265-a097-c085126fbd39",
   "metadata": {},
   "outputs": [],
   "source": [
    "blurred_image = image.filter(ImageFilter.BLUR)"
   ]
  },
  {
   "cell_type": "code",
   "execution_count": 8,
   "id": "5cca16c6-488b-4af0-bcfa-a7a46a5b7627",
   "metadata": {},
   "outputs": [],
   "source": [
    "rotated_image = image.transpose(Image.ROTATE_90)"
   ]
  },
  {
   "cell_type": "code",
   "execution_count": 9,
   "id": "f7b88497-d551-4e4b-b9cd-ab418b18d5b4",
   "metadata": {},
   "outputs": [],
   "source": [
    "gray_image.save('D:\\mystuff\\yoga.jpeg')\n",
    "blurred_image.save('D:\\mystuff\\yoga.jpeg')\n",
    "rotated_image.save('D:\\mystuff\\yoga.jpeg')\n"
   ]
  },
  {
   "cell_type": "code",
   "execution_count": 10,
   "id": "135601f5-8ede-49e5-afba-183d6b057054",
   "metadata": {},
   "outputs": [],
   "source": [
    "gray_image.show()"
   ]
  },
  {
   "cell_type": "code",
   "execution_count": null,
   "id": "7034303b-a8c0-46e2-9d74-2fc49ab99de3",
   "metadata": {},
   "outputs": [],
   "source": [
    "blurred_image.sh"
   ]
  }
 ],
 "metadata": {
  "kernelspec": {
   "display_name": "Python 3 (ipykernel)",
   "language": "python",
   "name": "python3"
  },
  "language_info": {
   "codemirror_mode": {
    "name": "ipython",
    "version": 3
   },
   "file_extension": ".py",
   "mimetype": "text/x-python",
   "name": "python",
   "nbconvert_exporter": "python",
   "pygments_lexer": "ipython3",
   "version": "3.9.6"
  }
 },
 "nbformat": 4,
 "nbformat_minor": 5
}
