{
 "cells": [
  {
   "cell_type": "code",
   "execution_count": 1,
   "id": "b11f2998-2635-4e8a-be66-269946074499",
   "metadata": {},
   "outputs": [],
   "source": [
    "from PIL import Image, ImageFilter"
   ]
  },
  {
   "cell_type": "code",
   "execution_count": 2,
   "id": "8511a43a-9023-40d7-9996-5063b7c789e2",
   "metadata": {},
   "outputs": [],
   "source": [
    "image = Image.open('D:\\myself.jpg')"
   ]
  },
  {
   "cell_type": "code",
   "execution_count": 3,
   "id": "bd7f449e-33de-45f7-b7e6-08852362679d",
   "metadata": {},
   "outputs": [],
   "source": [
    "# Apply a simple 3x3 kernel to perform a basic sharpening operation\n",
    "kernel = ImageFilter.Kernel((3, 3), [-1, -1, -1, -1, 9, -1, -1, -1, -1])\n"
   ]
  },
  {
   "cell_type": "code",
   "execution_count": 4,
   "id": "90216618-cd80-41f6-a8ad-03f64fe470aa",
   "metadata": {},
   "outputs": [],
   "source": [
    "sharpened_image= image.filter(kernel)"
   ]
  },
  {
   "cell_type": "code",
   "execution_count": 5,
   "id": "d5234542-3a87-4145-8edb-3c0144002545",
   "metadata": {},
   "outputs": [],
   "source": [
    "# Display the original and sharpened images\n",
    "image.show(title='Original Image')\n",
    "sharpened_image.show(title='Sharpened Image')"
   ]
  },
  {
   "cell_type": "code",
   "execution_count": null,
   "id": "3a46fd15-799e-4cf0-a931-abe601a17503",
   "metadata": {},
   "outputs": [],
   "source": []
  }
 ],
 "metadata": {
  "kernelspec": {
   "display_name": "Python 3 (ipykernel)",
   "language": "python",
   "name": "python3"
  },
  "language_info": {
   "codemirror_mode": {
    "name": "ipython",
    "version": 3
   },
   "file_extension": ".py",
   "mimetype": "text/x-python",
   "name": "python",
   "nbconvert_exporter": "python",
   "pygments_lexer": "ipython3",
   "version": "3.9.6"
  }
 },
 "nbformat": 4,
 "nbformat_minor": 5
}
